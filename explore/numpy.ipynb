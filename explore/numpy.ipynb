{
 "cells": [
  {
   "cell_type": "markdown",
   "id": "e4ffdc92-2ce6-44b7-9573-8c18c280cd56",
   "metadata": {},
   "source": [
    "# "
   ]
  },
  {
   "cell_type": "code",
   "execution_count": 2,
   "id": "fe5ee453-240a-4fc6-b7fc-979cef15b107",
   "metadata": {},
   "outputs": [],
   "source": [
    "import numpy as np"
   ]
  },
  {
   "cell_type": "code",
   "execution_count": 3,
   "id": "92c54ff5-0ebf-47f0-ba37-5f6138241633",
   "metadata": {},
   "outputs": [],
   "source": [
    "L = [1, 2, 3]"
   ]
  },
  {
   "cell_type": "code",
   "execution_count": 4,
   "id": "0cdc2ab5-bbf6-45b5-96ac-d645443f6d1f",
   "metadata": {},
   "outputs": [],
   "source": [
    "A = np.array(L)"
   ]
  },
  {
   "cell_type": "code",
   "execution_count": 5,
   "id": "df6b2fc6-dc51-4787-be37-5693bea7fa18",
   "metadata": {},
   "outputs": [
    {
     "data": {
      "text/plain": [
       "[1, 2, 3]"
      ]
     },
     "execution_count": 5,
     "metadata": {},
     "output_type": "execute_result"
    }
   ],
   "source": [
    "L"
   ]
  },
  {
   "cell_type": "code",
   "execution_count": 6,
   "id": "e4246c4a-6f6f-448e-a701-ed9c0a19863f",
   "metadata": {},
   "outputs": [
    {
     "data": {
      "text/plain": [
       "array([1, 2, 3])"
      ]
     },
     "execution_count": 6,
     "metadata": {},
     "output_type": "execute_result"
    }
   ],
   "source": [
    "A"
   ]
  },
  {
   "cell_type": "code",
   "execution_count": 7,
   "id": "398bd67e-bf45-4145-9d16-d5b0a00b01a6",
   "metadata": {},
   "outputs": [
    {
     "name": "stdout",
     "output_type": "stream",
     "text": [
      "1\n",
      "2\n",
      "3\n"
     ]
    }
   ],
   "source": [
    "for e in L:\n",
    "    print(e)"
   ]
  },
  {
   "cell_type": "code",
   "execution_count": 8,
   "id": "0b0fe914-71fe-4166-a453-0bf836a7a5b3",
   "metadata": {},
   "outputs": [
    {
     "name": "stdout",
     "output_type": "stream",
     "text": [
      "1\n",
      "2\n",
      "3\n"
     ]
    }
   ],
   "source": [
    "for e in A:\n",
    "    print(e)"
   ]
  },
  {
   "cell_type": "code",
   "execution_count": 9,
   "id": "f999752c-40b3-4f18-98ba-b8a512d163e5",
   "metadata": {},
   "outputs": [
    {
     "data": {
      "text/plain": [
       "[1, 2, 3, 4]"
      ]
     },
     "execution_count": 9,
     "metadata": {},
     "output_type": "execute_result"
    }
   ],
   "source": [
    "L.append(4)\n",
    "L"
   ]
  },
  {
   "cell_type": "markdown",
   "id": "8b7cc1a5-7da5-4925-8f5a-307f4dea35ec",
   "metadata": {},
   "source": [
    "Don't try to resize numpy arrays in place"
   ]
  },
  {
   "cell_type": "code",
   "execution_count": 10,
   "id": "6b08943f-53a2-43d0-821b-0a274ced99f8",
   "metadata": {},
   "outputs": [
    {
     "data": {
      "text/plain": [
       "[1, 2, 3, 4, 1, 2, 3, 4]"
      ]
     },
     "execution_count": 10,
     "metadata": {},
     "output_type": "execute_result"
    }
   ],
   "source": [
    "L + L"
   ]
  },
  {
   "cell_type": "code",
   "execution_count": 11,
   "id": "a129b785-cd98-48dc-849c-0034f1b7f30e",
   "metadata": {},
   "outputs": [
    {
     "data": {
      "text/plain": [
       "array([2, 4, 6])"
      ]
     },
     "execution_count": 11,
     "metadata": {},
     "output_type": "execute_result"
    }
   ],
   "source": [
    "A + A"
   ]
  },
  {
   "cell_type": "code",
   "execution_count": 12,
   "id": "13c24bb5-f22e-4fc6-a340-7b05f01e4344",
   "metadata": {},
   "outputs": [
    {
     "data": {
      "text/plain": [
       "[4, 5, 6, 7]"
      ]
     },
     "execution_count": 12,
     "metadata": {},
     "output_type": "execute_result"
    }
   ],
   "source": [
    "L2 = []\n",
    "for e in L:\n",
    "    L2.append(e + 3)\n",
    "L2"
   ]
  },
  {
   "cell_type": "code",
   "execution_count": 13,
   "id": "4a9e6401-f375-4392-9580-b8bb0c122348",
   "metadata": {},
   "outputs": [
    {
     "data": {
      "text/plain": [
       "array([4, 5, 6])"
      ]
     },
     "execution_count": 13,
     "metadata": {},
     "output_type": "execute_result"
    }
   ],
   "source": [
    "A + 3"
   ]
  },
  {
   "cell_type": "code",
   "execution_count": 14,
   "id": "fadf7814-b640-488b-91d0-f4034298fe81",
   "metadata": {},
   "outputs": [
    {
     "ename": "TypeError",
     "evalue": "unsupported operand type(s) for ** or pow(): 'list' and 'int'",
     "output_type": "error",
     "traceback": [
      "\u001b[0;31m---------------------------------------------------------------------------\u001b[0m",
      "\u001b[0;31mTypeError\u001b[0m                                 Traceback (most recent call last)",
      "Cell \u001b[0;32mIn[14], line 1\u001b[0m\n\u001b[0;32m----> 1\u001b[0m \u001b[43mL\u001b[49m\u001b[38;5;241;43m*\u001b[39;49m\u001b[38;5;241;43m*\u001b[39;49m\u001b[38;5;241;43m2\u001b[39;49m\n",
      "\u001b[0;31mTypeError\u001b[0m: unsupported operand type(s) for ** or pow(): 'list' and 'int'"
     ]
    }
   ],
   "source": [
    "L**2"
   ]
  },
  {
   "cell_type": "code",
   "execution_count": 15,
   "id": "4609bf0c-2a35-4b83-8b61-c4856c8625f9",
   "metadata": {},
   "outputs": [
    {
     "data": {
      "text/plain": [
       "array([1, 4, 9])"
      ]
     },
     "execution_count": 15,
     "metadata": {},
     "output_type": "execute_result"
    }
   ],
   "source": [
    "A**2"
   ]
  },
  {
   "cell_type": "code",
   "execution_count": 16,
   "id": "e672ea9a-a95d-43ae-aafb-8f3acaec017b",
   "metadata": {},
   "outputs": [
    {
     "data": {
      "text/plain": [
       "array([0.76159416, 0.96402758, 0.99505475])"
      ]
     },
     "execution_count": 16,
     "metadata": {},
     "output_type": "execute_result"
    }
   ],
   "source": [
    "np.tanh(A)"
   ]
  },
  {
   "cell_type": "markdown",
   "id": "32edf543-16af-464e-a668-448481d91250",
   "metadata": {},
   "source": [
    "Dot Product:"
   ]
  },
  {
   "cell_type": "code",
   "execution_count": 17,
   "id": "8455eba1-1c69-4acc-8f75-2ef7b68aa7d7",
   "metadata": {},
   "outputs": [],
   "source": [
    "a = np.array([1, 2])\n",
    "b = np.array([3, 4])"
   ]
  },
  {
   "cell_type": "code",
   "execution_count": 18,
   "id": "30b3a158-502f-4dae-9089-3791db5c01a6",
   "metadata": {},
   "outputs": [
    {
     "data": {
      "text/plain": [
       "11"
      ]
     },
     "execution_count": 18,
     "metadata": {},
     "output_type": "execute_result"
    }
   ],
   "source": [
    "dot = 0\n",
    "for e, f in zip(a, b):\n",
    "    dot += e * f\n",
    "dot"
   ]
  },
  {
   "cell_type": "code",
   "execution_count": 19,
   "id": "40ad4d48-1458-453c-afdb-573e8ffe531a",
   "metadata": {},
   "outputs": [
    {
     "data": {
      "text/plain": [
       "11"
      ]
     },
     "execution_count": 19,
     "metadata": {},
     "output_type": "execute_result"
    }
   ],
   "source": [
    "a.dot(b)"
   ]
  },
  {
   "cell_type": "code",
   "execution_count": 20,
   "id": "dead5192-ba45-4eaf-8310-d9cd9119addf",
   "metadata": {},
   "outputs": [
    {
     "data": {
      "text/plain": [
       "11"
      ]
     },
     "execution_count": 20,
     "metadata": {},
     "output_type": "execute_result"
    }
   ],
   "source": [
    "np.dot(a, b)"
   ]
  },
  {
   "cell_type": "code",
   "execution_count": 21,
   "id": "630a3968-3cf2-40fa-8d9a-e35939e30748",
   "metadata": {},
   "outputs": [
    {
     "data": {
      "text/plain": [
       "array([3, 8])"
      ]
     },
     "execution_count": 21,
     "metadata": {},
     "output_type": "execute_result"
    }
   ],
   "source": [
    "a * b"
   ]
  },
  {
   "cell_type": "code",
   "execution_count": 22,
   "id": "abed2f95-a569-4982-9610-c93b9ed573f5",
   "metadata": {},
   "outputs": [
    {
     "data": {
      "text/plain": [
       "11"
      ]
     },
     "execution_count": 22,
     "metadata": {},
     "output_type": "execute_result"
    }
   ],
   "source": [
    "np.sum(a * b)"
   ]
  },
  {
   "cell_type": "code",
   "execution_count": 23,
   "id": "b10de7d3-9b96-453d-9e5d-adf84fca79c4",
   "metadata": {},
   "outputs": [
    {
     "data": {
      "text/plain": [
       "11"
      ]
     },
     "execution_count": 23,
     "metadata": {},
     "output_type": "execute_result"
    }
   ],
   "source": [
    "(a * b).sum()"
   ]
  },
  {
   "cell_type": "code",
   "execution_count": 24,
   "id": "e675e7a0-390a-43fd-995c-75538b95fdb5",
   "metadata": {},
   "outputs": [
    {
     "data": {
      "text/plain": [
       "11"
      ]
     },
     "execution_count": 24,
     "metadata": {},
     "output_type": "execute_result"
    }
   ],
   "source": [
    "a @ b"
   ]
  },
  {
   "cell_type": "code",
   "execution_count": 25,
   "id": "e3b6f3bd-7828-4cde-88bc-7f78e39a9741",
   "metadata": {},
   "outputs": [
    {
     "data": {
      "text/plain": [
       "2.23606797749979"
      ]
     },
     "execution_count": 25,
     "metadata": {},
     "output_type": "execute_result"
    }
   ],
   "source": [
    "a_mag = np.sqrt(a @ a)\n",
    "a_mag"
   ]
  },
  {
   "cell_type": "code",
   "execution_count": 26,
   "id": "baf65905-50d5-49bf-8102-a6a5bbec85e2",
   "metadata": {},
   "outputs": [
    {
     "data": {
      "text/plain": [
       "5.0"
      ]
     },
     "execution_count": 26,
     "metadata": {},
     "output_type": "execute_result"
    }
   ],
   "source": [
    "b_mag = np.sqrt(b @ b)\n",
    "b_mag"
   ]
  },
  {
   "cell_type": "code",
   "execution_count": 27,
   "id": "ae88d396-afb2-41a2-ae8b-ca6de6407e89",
   "metadata": {},
   "outputs": [
    {
     "data": {
      "text/plain": [
       "0.9838699100999074"
      ]
     },
     "execution_count": 27,
     "metadata": {},
     "output_type": "execute_result"
    }
   ],
   "source": [
    "cos_ab = (a @ b)/(a_mag * b_mag)\n",
    "cos_ab"
   ]
  },
  {
   "cell_type": "code",
   "execution_count": 28,
   "id": "e4419654-d6a0-4250-bc0f-839d465f36d3",
   "metadata": {},
   "outputs": [
    {
     "data": {
      "text/plain": [
       "2.23606797749979"
      ]
     },
     "execution_count": 28,
     "metadata": {},
     "output_type": "execute_result"
    }
   ],
   "source": [
    "np.linalg.norm(a)"
   ]
  },
  {
   "cell_type": "code",
   "execution_count": 29,
   "id": "c97a3377-22fe-4b67-b4dd-026884230008",
   "metadata": {},
   "outputs": [],
   "source": [
    "theta = np.arccos(cos_ab)"
   ]
  },
  {
   "cell_type": "code",
   "execution_count": 30,
   "id": "4fabc19b-0515-4df7-a014-42ccb9b12720",
   "metadata": {},
   "outputs": [
    {
     "data": {
      "text/plain": [
       "0.17985349979247847"
      ]
     },
     "execution_count": 30,
     "metadata": {},
     "output_type": "execute_result"
    }
   ],
   "source": [
    "theta"
   ]
  },
  {
   "cell_type": "markdown",
   "id": "ce910201-e3d5-4803-909f-60ddea7632e5",
   "metadata": {},
   "source": [
    "Solving Linear Systems"
   ]
  },
  {
   "cell_type": "code",
   "execution_count": 32,
   "id": "abd2c97b-ad66-4cb2-8666-04c472a03542",
   "metadata": {},
   "outputs": [],
   "source": [
    "A = np.array([[1, 1], [1.5, 4]])\n",
    "b = np.array([2200, 5050])"
   ]
  },
  {
   "cell_type": "code",
   "execution_count": 33,
   "id": "1b329bf5-502a-4339-86f4-dd97f35e9992",
   "metadata": {},
   "outputs": [
    {
     "data": {
      "text/plain": [
       "array([1500.,  700.])"
      ]
     },
     "execution_count": 33,
     "metadata": {},
     "output_type": "execute_result"
    }
   ],
   "source": [
    "np.linalg.solve(A, b)"
   ]
  },
  {
   "cell_type": "code",
   "execution_count": 34,
   "id": "e0b78e33-1052-4023-94cd-8c550a733ceb",
   "metadata": {},
   "outputs": [
    {
     "data": {
      "text/plain": [
       "array([1500.,  700.])"
      ]
     },
     "execution_count": 34,
     "metadata": {},
     "output_type": "execute_result"
    }
   ],
   "source": [
    "np.linalg.inv(A).dot(b)"
   ]
  },
  {
   "cell_type": "markdown",
   "id": "38fc6019-acc2-422e-a2bb-376f20e64a14",
   "metadata": {},
   "source": [
    "Generating Data"
   ]
  },
  {
   "cell_type": "code",
   "execution_count": 36,
   "id": "9369b2ae-dddf-473d-ae55-da5ab3b81acd",
   "metadata": {},
   "outputs": [
    {
     "data": {
      "text/plain": [
       "array([[0., 0., 0.],\n",
       "       [0., 0., 0.]])"
      ]
     },
     "execution_count": 36,
     "metadata": {},
     "output_type": "execute_result"
    }
   ],
   "source": [
    "zeros = np.zeros((2, 3))\n",
    "zeros"
   ]
  },
  {
   "cell_type": "code",
   "execution_count": 37,
   "id": "59b6eab4-33fa-4291-982b-0f1223259053",
   "metadata": {},
   "outputs": [
    {
     "data": {
      "text/plain": [
       "array([[1., 1., 1.],\n",
       "       [1., 1., 1.]])"
      ]
     },
     "execution_count": 37,
     "metadata": {},
     "output_type": "execute_result"
    }
   ],
   "source": [
    "np.ones((2, 3))"
   ]
  },
  {
   "cell_type": "code",
   "execution_count": 38,
   "id": "4bfa7d47-10d2-46b0-8b43-e7aefc04b41a",
   "metadata": {},
   "outputs": [
    {
     "data": {
      "text/plain": [
       "array([[10., 10., 10.],\n",
       "       [10., 10., 10.]])"
      ]
     },
     "execution_count": 38,
     "metadata": {},
     "output_type": "execute_result"
    }
   ],
   "source": [
    "np.ones((2, 3)) * 10"
   ]
  },
  {
   "cell_type": "code",
   "execution_count": 39,
   "id": "1978920a-007f-4513-a8b7-5d31d92f907d",
   "metadata": {},
   "outputs": [
    {
     "data": {
      "text/plain": [
       "array([[1., 0., 0., 0., 0.],\n",
       "       [0., 1., 0., 0., 0.],\n",
       "       [0., 0., 1., 0., 0.],\n",
       "       [0., 0., 0., 1., 0.],\n",
       "       [0., 0., 0., 0., 1.]])"
      ]
     },
     "execution_count": 39,
     "metadata": {},
     "output_type": "execute_result"
    }
   ],
   "source": [
    "np.eye(5)"
   ]
  },
  {
   "cell_type": "code",
   "execution_count": 40,
   "id": "e287a331-82cd-43eb-9908-3c75d8050e25",
   "metadata": {},
   "outputs": [
    {
     "data": {
      "text/plain": [
       "array([[1., 0., 0., 0., 0.],\n",
       "       [0., 1., 0., 0., 0.],\n",
       "       [0., 0., 1., 0., 0.],\n",
       "       [0., 0., 0., 1., 0.],\n",
       "       [0., 0., 0., 0., 1.]])"
      ]
     },
     "execution_count": 40,
     "metadata": {},
     "output_type": "execute_result"
    }
   ],
   "source": [
    "np.identity(5)"
   ]
  },
  {
   "cell_type": "code",
   "execution_count": 44,
   "id": "6d31e923-cac3-4ea8-ad6b-82a6fffe1cf0",
   "metadata": {},
   "outputs": [
    {
     "data": {
      "text/plain": [
       "0.24665767128855964"
      ]
     },
     "execution_count": 44,
     "metadata": {},
     "output_type": "execute_result"
    }
   ],
   "source": [
    "np.random.random()"
   ]
  },
  {
   "cell_type": "code",
   "execution_count": 45,
   "id": "e637c498-5cfe-4572-a805-508fb288ff78",
   "metadata": {},
   "outputs": [
    {
     "data": {
      "text/plain": [
       "array([[0.03559986, 0.39868754, 0.47144005],\n",
       "       [0.50286547, 0.65733533, 0.40320124]])"
      ]
     },
     "execution_count": 45,
     "metadata": {},
     "output_type": "execute_result"
    }
   ],
   "source": [
    "np.random.random((2, 3))"
   ]
  },
  {
   "cell_type": "code",
   "execution_count": 47,
   "id": "46856422-2522-4858-b328-65d824ea7b64",
   "metadata": {},
   "outputs": [
    {
     "data": {
      "text/plain": [
       "array([[ 0.11022218, -0.4618017 , -0.24912557],\n",
       "       [ 0.52260202, -1.272154  , -0.03263228]])"
      ]
     },
     "execution_count": 47,
     "metadata": {},
     "output_type": "execute_result"
    }
   ],
   "source": [
    "np.random.randn(2, 3)"
   ]
  },
  {
   "cell_type": "code",
   "execution_count": 48,
   "id": "5a8ffbb8-8a2f-496a-adaa-0134964af831",
   "metadata": {},
   "outputs": [],
   "source": [
    "R = np.random.randn(10_000)"
   ]
  },
  {
   "cell_type": "code",
   "execution_count": 49,
   "id": "9dcd9343-2ae3-4633-82db-9c3402575cc8",
   "metadata": {},
   "outputs": [
    {
     "data": {
      "text/plain": [
       "-0.002582228359225114"
      ]
     },
     "execution_count": 49,
     "metadata": {},
     "output_type": "execute_result"
    }
   ],
   "source": [
    "R.mean()"
   ]
  },
  {
   "cell_type": "code",
   "execution_count": 50,
   "id": "852afbdb-ecb0-4897-8b0d-831af8f33265",
   "metadata": {},
   "outputs": [
    {
     "data": {
      "text/plain": [
       "0.9893834111699213"
      ]
     },
     "execution_count": 50,
     "metadata": {},
     "output_type": "execute_result"
    }
   ],
   "source": [
    "R.std()"
   ]
  },
  {
   "cell_type": "code",
   "execution_count": 51,
   "id": "1dc675f4-0a2a-49fe-b6cd-c4c8c7ee86b3",
   "metadata": {},
   "outputs": [
    {
     "data": {
      "text/plain": [
       "0.9788795342982296"
      ]
     },
     "execution_count": 51,
     "metadata": {},
     "output_type": "execute_result"
    }
   ],
   "source": [
    "R.var()"
   ]
  },
  {
   "cell_type": "code",
   "execution_count": 53,
   "id": "5693839e-11db-467e-899e-3419f7d3ba41",
   "metadata": {},
   "outputs": [
    {
     "data": {
      "text/plain": [
       "0.9893834111699213"
      ]
     },
     "execution_count": 53,
     "metadata": {},
     "output_type": "execute_result"
    }
   ],
   "source": [
    "R.var()**(1/2)"
   ]
  },
  {
   "cell_type": "code",
   "execution_count": 54,
   "id": "de925255-519c-4d63-9ecc-ee43978ae5e7",
   "metadata": {},
   "outputs": [],
   "source": [
    "R = np.random.randn(10000, 3)"
   ]
  },
  {
   "cell_type": "code",
   "execution_count": 55,
   "id": "6378011b-1e61-4d84-862b-aaf29b92d304",
   "metadata": {},
   "outputs": [
    {
     "data": {
      "text/plain": [
       "array([0.00271908, 0.01028754, 0.00048931])"
      ]
     },
     "execution_count": 55,
     "metadata": {},
     "output_type": "execute_result"
    }
   ],
   "source": [
    "R.mean(axis=0) # mean of each column"
   ]
  },
  {
   "cell_type": "code",
   "execution_count": 56,
   "id": "2440856a-6019-43a3-9659-080b0e8b49e8",
   "metadata": {},
   "outputs": [
    {
     "data": {
      "text/plain": [
       "array([-0.18588503,  0.16324092, -0.08126325, ...,  0.6525196 ,\n",
       "        0.76491203,  0.41010288])"
      ]
     },
     "execution_count": 56,
     "metadata": {},
     "output_type": "execute_result"
    }
   ],
   "source": [
    "R.mean(axis=1) # mean of each row"
   ]
  },
  {
   "cell_type": "code",
   "execution_count": 57,
   "id": "b0af95b0-a419-4953-88c6-0cd313d6f9b0",
   "metadata": {},
   "outputs": [
    {
     "data": {
      "text/plain": [
       "array([[ 1.3598308 ,  0.30123897,  0.33662763, ..., -0.07184325,\n",
       "        -0.79869758, -0.06087342],\n",
       "       [ 0.30123897,  2.3595045 , -1.70141979, ..., -0.78654328,\n",
       "        -0.71470744, -0.49754094],\n",
       "       [ 0.33662763, -1.70141979,  1.45902407, ...,  0.57914721,\n",
       "         0.21884416,  0.35988262],\n",
       "       ...,\n",
       "       [-0.07184325, -0.78654328,  0.57914721, ...,  0.26281297,\n",
       "         0.22294963,  0.16591305],\n",
       "       [-0.79869758, -0.71470744,  0.21884416, ...,  0.22294963,\n",
       "         0.59525174,  0.14929037],\n",
       "       [-0.06087342, -0.49754094,  0.35988262, ...,  0.16591305,\n",
       "         0.14929037,  0.10492013]])"
      ]
     },
     "execution_count": 57,
     "metadata": {},
     "output_type": "execute_result"
    }
   ],
   "source": [
    "np.cov(R)"
   ]
  },
  {
   "cell_type": "code",
   "execution_count": 59,
   "id": "50de597b-12d0-419b-9d58-328ae3e6b0fb",
   "metadata": {},
   "outputs": [
    {
     "data": {
      "text/plain": [
       "array([[ 0.99834777,  0.00354294, -0.00532419],\n",
       "       [ 0.00354294,  0.98096246, -0.00471279],\n",
       "       [-0.00532419, -0.00471279,  1.02662613]])"
      ]
     },
     "execution_count": 59,
     "metadata": {},
     "output_type": "execute_result"
    }
   ],
   "source": [
    "np.cov(R.T)"
   ]
  },
  {
   "cell_type": "code",
   "execution_count": 60,
   "id": "b068d72a-4564-43ea-a696-34465b179282",
   "metadata": {},
   "outputs": [
    {
     "data": {
      "text/plain": [
       "array([[ 0.99834777,  0.00354294, -0.00532419],\n",
       "       [ 0.00354294,  0.98096246, -0.00471279],\n",
       "       [-0.00532419, -0.00471279,  1.02662613]])"
      ]
     },
     "execution_count": 60,
     "metadata": {},
     "output_type": "execute_result"
    }
   ],
   "source": [
    "np.cov(R, rowvar=False)"
   ]
  },
  {
   "cell_type": "code",
   "execution_count": 61,
   "id": "ac70f4d6-1ae1-4d02-a3f5-961fe47111f0",
   "metadata": {},
   "outputs": [
    {
     "data": {
      "text/plain": [
       "array([[1, 2, 1],\n",
       "       [2, 0, 9],\n",
       "       [1, 8, 4]])"
      ]
     },
     "execution_count": 61,
     "metadata": {},
     "output_type": "execute_result"
    }
   ],
   "source": [
    "np.random.randint(0, 10,  size=(3, 3))"
   ]
  },
  {
   "cell_type": "code",
   "execution_count": 64,
   "id": "0cacbcb2-3689-41bd-bd2d-91e0a7e7eaff",
   "metadata": {},
   "outputs": [
    {
     "data": {
      "text/plain": [
       "array([['cat', 'dog', 'cat'],\n",
       "       ['dog', 'dog', 'cat'],\n",
       "       ['cat', 'duck', 'duck']], dtype='<U4')"
      ]
     },
     "execution_count": 64,
     "metadata": {},
     "output_type": "execute_result"
    }
   ],
   "source": [
    "np.random.choice([\"dog\", \"cat\", \"duck\"], (3, 3))"
   ]
  },
  {
   "cell_type": "code",
   "execution_count": 65,
   "id": "8dc3c7a8-9643-4f35-aef0-05ca9dec1d3f",
   "metadata": {},
   "outputs": [
    {
     "data": {
      "text/plain": [
       "array([1, 2])"
      ]
     },
     "execution_count": 65,
     "metadata": {},
     "output_type": "execute_result"
    }
   ],
   "source": [
    "a"
   ]
  },
  {
   "cell_type": "code",
   "execution_count": 67,
   "id": "274d2658-9350-40b5-aa02-f0d5d9565439",
   "metadata": {},
   "outputs": [
    {
     "data": {
      "text/plain": [
       "array([2200, 5050])"
      ]
     },
     "execution_count": 67,
     "metadata": {},
     "output_type": "execute_result"
    }
   ],
   "source": [
    "b"
   ]
  },
  {
   "cell_type": "markdown",
   "id": "223d6e4f-e491-4e4f-9da1-fa85c0cbca21",
   "metadata": {},
   "source": [
    "# Add some Text"
   ]
  },
  {
   "cell_type": "markdown",
   "id": "40b26b3a-ab33-4810-a6e8-a0b701cda7ca",
   "metadata": {},
   "source": []
  }
 ],
 "metadata": {
  "kernelspec": {
   "display_name": "Python 3 (ipykernel)",
   "language": "python",
   "name": "python3"
  },
  "language_info": {
   "codemirror_mode": {
    "name": "ipython",
    "version": 3
   },
   "file_extension": ".py",
   "mimetype": "text/x-python",
   "name": "python",
   "nbconvert_exporter": "python",
   "pygments_lexer": "ipython3",
   "version": "3.10.11"
  }
 },
 "nbformat": 4,
 "nbformat_minor": 5
}
