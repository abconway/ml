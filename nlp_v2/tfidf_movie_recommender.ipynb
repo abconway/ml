{
 "cells": [
  {
   "cell_type": "code",
   "execution_count": 28,
   "id": "ae8cb79c-75f4-46c8-8306-2b75d827877b",
   "metadata": {},
   "outputs": [],
   "source": [
    "import numpy as np\n",
    "import pandas as pd\n",
    "import json"
   ]
  },
  {
   "cell_type": "code",
   "execution_count": 219,
   "id": "45753ee2-25df-4c5b-bb09-eb9517babbef",
   "metadata": {},
   "outputs": [],
   "source": [
    "def create_document(item):\n",
    "    genres = \" \".join([genre[\"name\"] for genre in json.loads(item[\"genres\"])])\n",
    "    keywords = \" \".join([keyword[\"name\"] for keyword in json.loads(item[\"keywords\"])])\n",
    "    return \" \".join([genres, keywords]) #, item[\"overview\"], item[\"tagline\"], item[\"original_title\"]])"
   ]
  },
  {
   "cell_type": "code",
   "execution_count": 220,
   "id": "0bd5c2c0-27b0-4cee-a92b-542d27dc5a29",
   "metadata": {},
   "outputs": [],
   "source": [
    "data = pd.read_csv(\"tmdb_5000_movies.csv\")\n",
    "data = data.fillna(\" \")"
   ]
  },
  {
   "cell_type": "code",
   "execution_count": 221,
   "id": "c44f8f91-c6bd-43f9-9b59-3810e7527ee9",
   "metadata": {},
   "outputs": [],
   "source": [
    "data[\"document\"] = data.apply(create_document, axis=1)"
   ]
  },
  {
   "cell_type": "code",
   "execution_count": 222,
   "id": "80a88ad5-9064-4a5a-b3f6-b288481f180f",
   "metadata": {},
   "outputs": [],
   "source": [
    "from sklearn.feature_extraction.text import TfidfVectorizer\n",
    "tfidf = TfidfVectorizer()"
   ]
  },
  {
   "cell_type": "code",
   "execution_count": 223,
   "id": "7950f716-faa3-4fc3-8424-969a9d94a1f2",
   "metadata": {},
   "outputs": [],
   "source": [
    "X = tfidf.fit_transform(data[\"document\"])"
   ]
  },
  {
   "cell_type": "code",
   "execution_count": 224,
   "id": "88f16852-7364-4ae4-b13e-c65a672f736a",
   "metadata": {},
   "outputs": [],
   "source": [
    "from sklearn.metrics.pairwise import cosine_similarity"
   ]
  },
  {
   "cell_type": "code",
   "execution_count": 225,
   "id": "f89c9b99-6b94-4af5-8ac6-7c5df8736355",
   "metadata": {},
   "outputs": [],
   "source": [
    "similarities = cosine_similarity(X)"
   ]
  },
  {
   "cell_type": "code",
   "execution_count": 226,
   "id": "d1770739-95f4-4f33-a373-efd2de91cecb",
   "metadata": {},
   "outputs": [],
   "source": [
    "def get_recommendation(df, sims, index):\n",
    "    print(\"getting recommendations for: \", df.iloc[index][\"title\"])\n",
    "    df[\"similarity\"] = sims[index]\n",
    "    return df.sort_values(\"similarity\", ascending=False)[1:6][\"title\"]"
   ]
  },
  {
   "cell_type": "code",
   "execution_count": 236,
   "id": "02325da8-86ad-42f3-a88d-421440761d9d",
   "metadata": {},
   "outputs": [
    {
     "name": "stdout",
     "output_type": "stream",
     "text": [
      "getting recommendations for:  Escape from Alcatraz\n"
     ]
    },
    {
     "data": {
      "text/plain": [
       "4735           The Night Visitor\n",
       "534                      Bandits\n",
       "609                  Escape Plan\n",
       "4676           Middle of Nowhere\n",
       "1881    The Shawshank Redemption\n",
       "Name: title, dtype: object"
      ]
     },
     "execution_count": 236,
     "metadata": {},
     "output_type": "execute_result"
    }
   ],
   "source": [
    "get_recommendation(data, similarities, 3242)"
   ]
  },
  {
   "cell_type": "code",
   "execution_count": null,
   "id": "c8898727-dbcb-4e99-813a-19b8045d36b7",
   "metadata": {},
   "outputs": [],
   "source": []
  }
 ],
 "metadata": {
  "kernelspec": {
   "display_name": "Python 3 (ipykernel)",
   "language": "python",
   "name": "python3"
  },
  "language_info": {
   "codemirror_mode": {
    "name": "ipython",
    "version": 3
   },
   "file_extension": ".py",
   "mimetype": "text/x-python",
   "name": "python",
   "nbconvert_exporter": "python",
   "pygments_lexer": "ipython3",
   "version": "3.10.11"
  }
 },
 "nbformat": 4,
 "nbformat_minor": 5
}
