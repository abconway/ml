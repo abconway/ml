{
 "cells": [
  {
   "cell_type": "markdown",
   "id": "ce4e7865-c773-4981-905b-edbd88bbe8a3",
   "metadata": {},
   "source": [
    "# TF-IDF"
   ]
  },
  {
   "cell_type": "markdown",
   "id": "833c420e-1485-4304-9d84-5a31077f7031",
   "metadata": {},
   "source": [
    "## Why?"
   ]
  },
  {
   "cell_type": "markdown",
   "id": "54bb915d-17c9-4eef-a1a6-96c3b8550858",
   "metadata": {},
   "source": [
    "What's wrong with the count vectorizer?"
   ]
  },
  {
   "cell_type": "markdown",
   "id": "c934ff5d-80f1-4454-af40-c048b61245eb",
   "metadata": {},
   "source": [
    "Stopwords?\n",
    "- Unlikely to be helpful, they're everwhere, can't use for search, can't use for sentiment analysis, etc\n",
    "- How do we know our stopwords are correct?\n",
    "- We don't, they're context specific\n",
    "- Can we automatically determine which words are important?"
   ]
  },
  {
   "cell_type": "markdown",
   "id": "e5b8d099-a4f6-474f-ab01-44f14bd55914",
   "metadata": {},
   "source": [
    "## The main idea of TF-IDF"
   ]
  },
  {
   "cell_type": "markdown",
   "id": "386172fe-863a-48d4-be2d-dc8d543e7e50",
   "metadata": {},
   "source": [
    "- Words we want to ignore appear in many different documents\n",
    "- They won't help us differentiate between documents\n",
    "- We want to somehow scale down those word counts\n",
    "- Term Frequency - Inverse Document Frequency\n",
    "- TF-IDF = term requency / document frequency (intuition, not acutal formula)\n",
    "- TF (term frequency) is just the count vectorizer result\n",
    "- IDF (inverse document frequency) = log(N/N(t))\n",
    "- Why take the log?\n",
    "- Monotonically increasing\n",
    "- It squashes down large values\n",
    "- Deeper reasons from information theory, see extra reading for more if you want"
   ]
  },
  {
   "cell_type": "code",
   "execution_count": 4,
   "id": "25a41cf5-56ed-42bb-8e07-b7236a974935",
   "metadata": {},
   "outputs": [],
   "source": [
    "train_texts = [\"hello\"]\n",
    "from sklearn.feature_extraction.text import TfidfVectorizer\n",
    "tfidf = TfidfVectorizer()\n",
    "Xtrain = tfidf.fit_transform(train_texts)\n",
    "Xtest = tfidf.transform(train_texts)"
   ]
  },
  {
   "cell_type": "markdown",
   "id": "8215d94b-249b-4cf5-b6ef-6f916696088a",
   "metadata": {},
   "source": [
    "NOTE: arguments exist for stopwords, tokenizer, strip accents, etc."
   ]
  },
  {
   "cell_type": "code",
   "execution_count": 5,
   "id": "a5e009c5-b52b-46f7-b7b1-ad60cc12e5ca",
   "metadata": {},
   "outputs": [],
   "source": [
    "## Variations"
   ]
  },
  {
   "cell_type": "markdown",
   "id": "f4cac2b9-7d51-4549-a2ce-e53f39054ab3",
   "metadata": {},
   "source": [
    "### Term Frequency"
   ]
  },
  {
   "cell_type": "markdown",
   "id": "378a57c4-f3cd-4b0f-afc4-f86ebc6809ba",
   "metadata": {},
   "source": [
    "- Binary, 0/1 if the words appears or not\n",
    "- Normalize the count (sometimes this is the default)\n",
    "- Take the log of 1 + count, reduces the influence of extreme values"
   ]
  },
  {
   "cell_type": "markdown",
   "id": "837791e0-7ed8-4864-9358-15d2f79dc1ba",
   "metadata": {},
   "source": [
    "### Inverse Document Frequency Variations"
   ]
  },
  {
   "cell_type": "markdown",
   "id": "a47370d7-c836-41af-82f9-fbe56a50729e",
   "metadata": {},
   "source": [
    "- Smooth IDF => idf(t) = log(N / N(t)+1) + 1\n",
    "- prevents a value of 0 (log(1) = 0), prevents divide by zero later\n",
    "- IDF Max, use the max term count from in the document for N\n",
    "- Probabilistic IDF => idf(t) = log(N - N(t) / N(t)) | log-odds aka logit\n",
    "- Trivial IDF = idf == 1 ===> Then we just have the Term Frequency"
   ]
  },
  {
   "cell_type": "markdown",
   "id": "2450b0b5-87a2-400a-b491-15cb00232e6a",
   "metadata": {},
   "source": [
    "## Normalizing the TF-IDF"
   ]
  },
  {
   "cell_type": "markdown",
   "id": "7a68dc84-a697-4058-90dc-d9585b28d71a",
   "metadata": {},
   "source": [
    "- Recall: relationship between euclidean distance and cosine distance\n",
    "- Unlike CountVectorizer, TfidfVectorizer supports it\n",
    "- TfidfVectorizer(norm=\"l2\") # (or \"l1\", but \"l2\" is the default)"
   ]
  },
  {
   "cell_type": "markdown",
   "id": "68e75a8b-9448-4c37-91eb-d497b499e18a",
   "metadata": {},
   "source": [
    "NOTE: L2 normalization is unit lenght normalization"
   ]
  },
  {
   "cell_type": "code",
   "execution_count": null,
   "id": "b28455d3-f3c5-4e43-abf6-d3be34ccacc0",
   "metadata": {},
   "outputs": [],
   "source": []
  }
 ],
 "metadata": {
  "kernelspec": {
   "display_name": "Python 3 (ipykernel)",
   "language": "python",
   "name": "python3"
  },
  "language_info": {
   "codemirror_mode": {
    "name": "ipython",
    "version": 3
   },
   "file_extension": ".py",
   "mimetype": "text/x-python",
   "name": "python",
   "nbconvert_exporter": "python",
   "pygments_lexer": "ipython3",
   "version": "3.10.11"
  }
 },
 "nbformat": 4,
 "nbformat_minor": 5
}
