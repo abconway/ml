{
 "cells": [
  {
   "cell_type": "markdown",
   "id": "a360c01f-98f2-46cf-982c-63dc24d04d5f",
   "metadata": {},
   "source": [
    "Stemming is crude, just chops off the end of the word\n",
    "Lemmatization is rules based and will give you the actual root of a word"
   ]
  },
  {
   "cell_type": "markdown",
   "id": "1a022535-ad9c-4c76-a20a-22a5ea00d6b4",
   "metadata": {},
   "source": [
    "# Stemming"
   ]
  },
  {
   "cell_type": "markdown",
   "id": "c35aa2c7-ba26-4805-b834-23b79555a11f",
   "metadata": {},
   "source": [
    "Based on simple heuristics\n",
    "- remove ES (bosses -> boss, etc)\n",
    "- NLTK Porter stemmer"
   ]
  },
  {
   "cell_type": "markdown",
   "id": "2da53527-0b3f-4f40-b70e-f6ee0394d9ae",
   "metadata": {},
   "source": [
    "# Lemmatization"
   ]
  },
  {
   "cell_type": "markdown",
   "id": "f04d3df5-9090-4014-9b7d-e90707f67e48",
   "metadata": {},
   "source": [
    "Better -> Good\n",
    "\n",
    "Was/Is -> Be\n",
    "\n",
    "Mice -> Mouse"
   ]
  },
  {
   "cell_type": "code",
   "execution_count": 19,
   "id": "78856529-e704-46fa-b7e1-9eb0fdb6c78f",
   "metadata": {},
   "outputs": [],
   "source": [
    "import nltk\n",
    "from nltk.stem import PorterStemmer\n",
    "from nltk.stem import WordNetLemmatizer"
   ]
  },
  {
   "cell_type": "code",
   "execution_count": 5,
   "id": "4336d750-0f97-4de8-8e33-09f1ddaccf47",
   "metadata": {},
   "outputs": [],
   "source": [
    "porter_stemmer = PorterStemmer()"
   ]
  },
  {
   "cell_type": "code",
   "execution_count": 7,
   "id": "f9e2afb9-fc15-4dda-b8b9-c81236aa8984",
   "metadata": {},
   "outputs": [
    {
     "data": {
      "text/plain": [
       "'walk'"
      ]
     },
     "execution_count": 7,
     "metadata": {},
     "output_type": "execute_result"
    }
   ],
   "source": [
    "porter_stemmer.stem(\"walking\")"
   ]
  },
  {
   "cell_type": "code",
   "execution_count": 8,
   "id": "544b5f7e-3a10-4f59-bccc-0633b5e55ad8",
   "metadata": {},
   "outputs": [
    {
     "data": {
      "text/plain": [
       "'walk'"
      ]
     },
     "execution_count": 8,
     "metadata": {},
     "output_type": "execute_result"
    }
   ],
   "source": [
    "porter_stemmer.stem(\"walked\")"
   ]
  },
  {
   "cell_type": "code",
   "execution_count": 9,
   "id": "8f759fa8-d187-46ff-a79b-4816522d89b1",
   "metadata": {},
   "outputs": [
    {
     "data": {
      "text/plain": [
       "'walk'"
      ]
     },
     "execution_count": 9,
     "metadata": {},
     "output_type": "execute_result"
    }
   ],
   "source": [
    "porter_stemmer.stem(\"walks\")"
   ]
  },
  {
   "cell_type": "code",
   "execution_count": 10,
   "id": "8c44f05d-1183-444f-80d7-409b2b911540",
   "metadata": {},
   "outputs": [
    {
     "data": {
      "text/plain": [
       "'ran'"
      ]
     },
     "execution_count": 10,
     "metadata": {},
     "output_type": "execute_result"
    }
   ],
   "source": [
    "porter_stemmer.stem(\"ran\")"
   ]
  },
  {
   "cell_type": "code",
   "execution_count": 11,
   "id": "ac305066-26fd-40ef-ad68-b8c6df036829",
   "metadata": {},
   "outputs": [
    {
     "data": {
      "text/plain": [
       "'run'"
      ]
     },
     "execution_count": 11,
     "metadata": {},
     "output_type": "execute_result"
    }
   ],
   "source": [
    "porter_stemmer.stem(\"running\")"
   ]
  },
  {
   "cell_type": "code",
   "execution_count": 12,
   "id": "e6ff787c-a4a3-4f3d-b00c-0c8dacf8dec1",
   "metadata": {},
   "outputs": [
    {
     "data": {
      "text/plain": [
       "'boss'"
      ]
     },
     "execution_count": 12,
     "metadata": {},
     "output_type": "execute_result"
    }
   ],
   "source": [
    "porter_stemmer.stem(\"bosses\")"
   ]
  },
  {
   "cell_type": "code",
   "execution_count": 13,
   "id": "1ff22c87-c876-45e3-98cc-754b9792ccb4",
   "metadata": {},
   "outputs": [
    {
     "data": {
      "text/plain": [
       "'replac'"
      ]
     },
     "execution_count": 13,
     "metadata": {},
     "output_type": "execute_result"
    }
   ],
   "source": [
    "porter_stemmer.stem(\"replacement\")"
   ]
  },
  {
   "cell_type": "code",
   "execution_count": 14,
   "id": "837c9574-96bb-4df0-8ccf-70bf30f7dc6e",
   "metadata": {},
   "outputs": [],
   "source": [
    "sentence = \"Lemmatization is more sophisticated than stemming\".split()"
   ]
  },
  {
   "cell_type": "code",
   "execution_count": 15,
   "id": "f3d0eafd-2526-43a1-b5f7-3622f598f050",
   "metadata": {},
   "outputs": [
    {
     "data": {
      "text/plain": [
       "['Lemmatization', 'is', 'more', 'sophisticated', 'than', 'stemming']"
      ]
     },
     "execution_count": 15,
     "metadata": {},
     "output_type": "execute_result"
    }
   ],
   "source": [
    "sentence"
   ]
  },
  {
   "cell_type": "code",
   "execution_count": 16,
   "id": "b901c37d-cbaa-44d9-846c-093ff32c027b",
   "metadata": {},
   "outputs": [
    {
     "name": "stdout",
     "output_type": "stream",
     "text": [
      "lemmat is more sophist than stem "
     ]
    }
   ],
   "source": [
    "for token in sentence:\n",
    "    print(porter_stemmer.stem(token), end=\" \")"
   ]
  },
  {
   "cell_type": "code",
   "execution_count": 17,
   "id": "a972b7be-8172-479c-a5b8-c3aa4bcb12f2",
   "metadata": {},
   "outputs": [
    {
     "data": {
      "text/plain": [
       "'unnecessari'"
      ]
     },
     "execution_count": 17,
     "metadata": {},
     "output_type": "execute_result"
    }
   ],
   "source": [
    "porter_stemmer.stem(\"unnecessary\")"
   ]
  },
  {
   "cell_type": "code",
   "execution_count": 18,
   "id": "e81b96ac-7ed3-4b95-bf58-3695e99f2ce1",
   "metadata": {},
   "outputs": [
    {
     "data": {
      "text/plain": [
       "'berri'"
      ]
     },
     "execution_count": 18,
     "metadata": {},
     "output_type": "execute_result"
    }
   ],
   "source": [
    "porter_stemmer.stem(\"berry\")"
   ]
  },
  {
   "cell_type": "code",
   "execution_count": 20,
   "id": "4d3920a2-387e-4843-a56c-56d915ad9e7c",
   "metadata": {},
   "outputs": [
    {
     "name": "stderr",
     "output_type": "stream",
     "text": [
      "[nltk_data] Downloading package wordnet to\n",
      "[nltk_data]     /Users/alexconway/nltk_data...\n"
     ]
    },
    {
     "data": {
      "text/plain": [
       "True"
      ]
     },
     "execution_count": 20,
     "metadata": {},
     "output_type": "execute_result"
    }
   ],
   "source": [
    "nltk.download(\"wordnet\")"
   ]
  },
  {
   "cell_type": "code",
   "execution_count": 21,
   "id": "9240299b-3a4e-47e0-a7ac-38fa2386220c",
   "metadata": {},
   "outputs": [],
   "source": [
    "from nltk.corpus import wordnet"
   ]
  },
  {
   "cell_type": "code",
   "execution_count": 22,
   "id": "a2a47e18-c52a-408d-80b4-48e49f49d534",
   "metadata": {},
   "outputs": [],
   "source": [
    "lemmatizer = WordNetLemmatizer()"
   ]
  },
  {
   "cell_type": "code",
   "execution_count": 23,
   "id": "e78ba83b-1bc8-4753-9235-edf6b9d5ef24",
   "metadata": {},
   "outputs": [
    {
     "data": {
      "text/plain": [
       "'walking'"
      ]
     },
     "execution_count": 23,
     "metadata": {},
     "output_type": "execute_result"
    }
   ],
   "source": [
    "lemmatizer.lemmatize(\"walking\")"
   ]
  },
  {
   "cell_type": "code",
   "execution_count": 27,
   "id": "f429be55-3113-4222-a8ad-84e389226bba",
   "metadata": {},
   "outputs": [
    {
     "data": {
      "text/plain": [
       "'walk'"
      ]
     },
     "execution_count": 27,
     "metadata": {},
     "output_type": "execute_result"
    }
   ],
   "source": [
    "lemmatizer.lemmatize(\"walking\", pos=wordnet.VERB)"
   ]
  },
  {
   "cell_type": "code",
   "execution_count": 28,
   "id": "e0266d61-7371-4a6f-8980-37007b8d5658",
   "metadata": {},
   "outputs": [
    {
     "data": {
      "text/plain": [
       "'v'"
      ]
     },
     "execution_count": 28,
     "metadata": {},
     "output_type": "execute_result"
    }
   ],
   "source": [
    "wordnet.VERB"
   ]
  },
  {
   "cell_type": "code",
   "execution_count": 29,
   "id": "d3bd5de6-7116-469e-a851-b31199b5922b",
   "metadata": {},
   "outputs": [
    {
     "data": {
      "text/plain": [
       "'going'"
      ]
     },
     "execution_count": 29,
     "metadata": {},
     "output_type": "execute_result"
    }
   ],
   "source": [
    "lemmatizer.lemmatize(\"going\")"
   ]
  },
  {
   "cell_type": "code",
   "execution_count": 30,
   "id": "ebd49ff3-71ed-4c45-b54e-f5628bce6cd5",
   "metadata": {},
   "outputs": [
    {
     "data": {
      "text/plain": [
       "'go'"
      ]
     },
     "execution_count": 30,
     "metadata": {},
     "output_type": "execute_result"
    }
   ],
   "source": [
    "lemmatizer.lemmatize(\"going\", pos=\"v\")"
   ]
  },
  {
   "cell_type": "code",
   "execution_count": 31,
   "id": "07d16b5d-ab93-464e-bddd-6985956b0ae1",
   "metadata": {},
   "outputs": [
    {
     "data": {
      "text/plain": [
       "'run'"
      ]
     },
     "execution_count": 31,
     "metadata": {},
     "output_type": "execute_result"
    }
   ],
   "source": [
    "lemmatizer.lemmatize(\"ran\", pos=\"v\")"
   ]
  },
  {
   "cell_type": "code",
   "execution_count": 32,
   "id": "bfe228fd-1d80-46cf-be39-ebe6136e145c",
   "metadata": {},
   "outputs": [
    {
     "data": {
      "text/plain": [
       "'Stephen'"
      ]
     },
     "execution_count": 32,
     "metadata": {},
     "output_type": "execute_result"
    }
   ],
   "source": [
    "lemmatizer.lemmatize(\"Stephen\")"
   ]
  },
  {
   "cell_type": "code",
   "execution_count": 33,
   "id": "5c2f26a3-e2c7-4822-af77-91b251b9544c",
   "metadata": {},
   "outputs": [
    {
     "data": {
      "text/plain": [
       "'Stephen'"
      ]
     },
     "execution_count": 33,
     "metadata": {},
     "output_type": "execute_result"
    }
   ],
   "source": [
    "lemmatizer.lemmatize(\"Stephen\", pos='v')"
   ]
  },
  {
   "cell_type": "code",
   "execution_count": 34,
   "id": "1680b06e-e7eb-41c1-9611-b1963abb6fb4",
   "metadata": {},
   "outputs": [],
   "source": [
    "def get_wordnet_pos(treebank_tag):\n",
    "    if treebank_tag.startswith(\"J\"):\n",
    "        return wordnet.ADJ\n",
    "    elif treebank_tag.startswith(\"V\"):\n",
    "        return wordnet.VERB\n",
    "    elif treebank_tag.startswith(\"N\"):\n",
    "        return wordnet.NOUN\n",
    "    elif treebank_tag.startswith(\"R\"):\n",
    "        return wordnet.ADV\n",
    "    else:\n",
    "        return wordnet.NOUN"
   ]
  },
  {
   "cell_type": "code",
   "execution_count": 35,
   "id": "94590529-4ca8-4ed6-a43c-c97e238b46f7",
   "metadata": {},
   "outputs": [
    {
     "name": "stderr",
     "output_type": "stream",
     "text": [
      "[nltk_data] Downloading package averaged_perceptron_tagger to\n",
      "[nltk_data]     /Users/alexconway/nltk_data...\n",
      "[nltk_data]   Unzipping taggers/averaged_perceptron_tagger.zip.\n"
     ]
    },
    {
     "data": {
      "text/plain": [
       "True"
      ]
     },
     "execution_count": 35,
     "metadata": {},
     "output_type": "execute_result"
    }
   ],
   "source": [
    "nltk.download(\"averaged_perceptron_tagger\")"
   ]
  },
  {
   "cell_type": "code",
   "execution_count": 36,
   "id": "ad40968a-767c-4e39-9fe7-967942fd8b06",
   "metadata": {},
   "outputs": [],
   "source": [
    "sentence = \"Donald Trump has a devoted following\".split()"
   ]
  },
  {
   "cell_type": "code",
   "execution_count": 37,
   "id": "f3b469c9-ebd7-4875-9a89-6c386130ba04",
   "metadata": {},
   "outputs": [
    {
     "data": {
      "text/plain": [
       "[('Donald', 'NNP'),\n",
       " ('Trump', 'NNP'),\n",
       " ('has', 'VBZ'),\n",
       " ('a', 'DT'),\n",
       " ('devoted', 'VBN'),\n",
       " ('following', 'NN')]"
      ]
     },
     "execution_count": 37,
     "metadata": {},
     "output_type": "execute_result"
    }
   ],
   "source": [
    "words_and_tags = nltk.pos_tag(sentence)\n",
    "words_and_tags"
   ]
  },
  {
   "cell_type": "code",
   "execution_count": 39,
   "id": "1ff1367c-09bb-4364-878d-5b389c149388",
   "metadata": {},
   "outputs": [
    {
     "name": "stdout",
     "output_type": "stream",
     "text": [
      "Donald Trump have a devote following "
     ]
    }
   ],
   "source": [
    "for word, tag in words_and_tags:\n",
    "    lemma = lemmatizer.lemmatize(word, pos=get_wordnet_pos(tag))\n",
    "    print(lemma, end=\" \")"
   ]
  },
  {
   "cell_type": "code",
   "execution_count": 40,
   "id": "9764b5c0-7060-40e2-bb6d-933ec56fbdfe",
   "metadata": {},
   "outputs": [],
   "source": [
    "sentence = \"The cat was following the bird as it flew by\".split()"
   ]
  },
  {
   "cell_type": "code",
   "execution_count": 41,
   "id": "a2731485-2154-486b-a8d6-6dd1c8eaa9c7",
   "metadata": {},
   "outputs": [],
   "source": [
    "words_and_tags = nltk.pos_tag(sentence)"
   ]
  },
  {
   "cell_type": "code",
   "execution_count": 42,
   "id": "5ae4799b-da25-42e7-86f0-2d763d12ee52",
   "metadata": {},
   "outputs": [
    {
     "name": "stdout",
     "output_type": "stream",
     "text": [
      "The cat be follow the bird a it fly by "
     ]
    }
   ],
   "source": [
    "for word, tag in words_and_tags:\n",
    "    lemma = lemmatizer.lemmatize(word, pos=get_wordnet_pos(tag))\n",
    "    print(lemma, end=\" \")"
   ]
  },
  {
   "cell_type": "code",
   "execution_count": null,
   "id": "925ff4e2-227d-4784-a59b-45a7dac240cb",
   "metadata": {},
   "outputs": [],
   "source": []
  }
 ],
 "metadata": {
  "kernelspec": {
   "display_name": "Python 3 (ipykernel)",
   "language": "python",
   "name": "python3"
  },
  "language_info": {
   "codemirror_mode": {
    "name": "ipython",
    "version": 3
   },
   "file_extension": ".py",
   "mimetype": "text/x-python",
   "name": "python",
   "nbconvert_exporter": "python",
   "pygments_lexer": "ipython3",
   "version": "3.10.11"
  }
 },
 "nbformat": 4,
 "nbformat_minor": 5
}
