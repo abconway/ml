{
 "cells": [
  {
   "cell_type": "markdown",
   "id": "a03bbcb6-1b69-4e39-a9df-d389f52619c2",
   "metadata": {},
   "source": [
    "# Vector Similarity"
   ]
  },
  {
   "cell_type": "markdown",
   "id": "58ff115e-8bfd-471e-8e7f-41e9732254f2",
   "metadata": {},
   "source": [
    "## Euclidean Distance"
   ]
  },
  {
   "cell_type": "markdown",
   "id": "78023cf9-08fc-484e-abd4-aac35098ae75",
   "metadata": {},
   "source": [
    "Distance is the opposite of similarity"
   ]
  },
  {
   "cell_type": "markdown",
   "id": "412c3f63-fee5-4414-b1c4-021ee8da1452",
   "metadata": {},
   "source": [
    "use the square of the euclidean distance because it is monotonically increasing and less computationally intensive"
   ]
  },
  {
   "cell_type": "markdown",
   "id": "803504e6-034e-463c-9cf9-c6353c654973",
   "metadata": {},
   "source": [
    "## Angle between to vectors"
   ]
  },
  {
   "cell_type": "markdown",
   "id": "7c94a690-9002-4137-b617-1725e5284a89",
   "metadata": {},
   "source": [
    "recall that the xTy is related to the cos(theta)"
   ]
  },
  {
   "cell_type": "markdown",
   "id": "2c62d149-71d8-45a3-ab95-1c6ebda82a08",
   "metadata": {},
   "source": [
    "Cosine Similarity (interested in values between 0 - pi)\n",
    "Cos(0) = 1 ==> vectors most similar\n",
    "Cos(pi) = -1 ==> vectors least similar"
   ]
  },
  {
   "cell_type": "markdown",
   "id": "8059a607-ad75-4bef-b735-9a6a21554ac6",
   "metadata": {},
   "source": [
    "Cosine Distance = 1 - Cosine Similarity"
   ]
  },
  {
   "cell_type": "markdown",
   "id": "bf0badcf-9551-483e-a51c-93a04c3b735a",
   "metadata": {},
   "source": [
    "(not a true \"distance\" in math terms)"
   ]
  },
  {
   "cell_type": "markdown",
   "id": "c6d8ac97-4ef4-4db2-92d6-92a78b7117ec",
   "metadata": {},
   "source": [
    "Cosine similarity is more common in NLP"
   ]
  },
  {
   "cell_type": "markdown",
   "id": "5efa1672-dd35-474b-af1f-f0f72315cea9",
   "metadata": {},
   "source": [
    "Cosine distance works well especially if vectors are of different size"
   ]
  },
  {
   "cell_type": "markdown",
   "id": "77d99aa3-4582-4895-b211-3f7e811e58a1",
   "metadata": {},
   "source": [
    "## Equivalence"
   ]
  },
  {
   "cell_type": "markdown",
   "id": "0d74f11d-efe8-4ae7-a211-f23ce4c720a6",
   "metadata": {},
   "source": [
    "- Suppose we don't care about the score, just the ranking\n",
    "- Suppose we normalize so the vectors have an L2-norm of 1"
   ]
  }
 ],
 "metadata": {
  "kernelspec": {
   "display_name": "Python 3 (ipykernel)",
   "language": "python",
   "name": "python3"
  },
  "language_info": {
   "codemirror_mode": {
    "name": "ipython",
    "version": 3
   },
   "file_extension": ".py",
   "mimetype": "text/x-python",
   "name": "python",
   "nbconvert_exporter": "python",
   "pygments_lexer": "ipython3",
   "version": "3.10.11"
  }
 },
 "nbformat": 4,
 "nbformat_minor": 5
}
