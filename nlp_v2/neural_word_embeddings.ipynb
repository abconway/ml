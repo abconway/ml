{
 "cells": [
  {
   "cell_type": "markdown",
   "id": "80d6f6a3-3721-4e41-9b37-94cd2d32638c",
   "metadata": {},
   "source": [
    "# Neural Word Embeddings"
   ]
  },
  {
   "cell_type": "markdown",
   "id": "0e0da7bb-02f6-459f-aac6-4616b0612996",
   "metadata": {},
   "source": [
    "Sequences of Vectors\n",
    "purpose built models for sequences\n",
    "CNNs, RNNs, Transformers (and HMMs)"
   ]
  },
  {
   "cell_type": "markdown",
   "id": "b8dbfe74-b0a9-4696-9ebd-6957fd64e398",
   "metadata": {},
   "source": [
    "- Word2Vec\n",
    "- GloVe"
   ]
  },
  {
   "cell_type": "markdown",
   "id": "bc61caf2-61de-485c-a480-098cac48951e",
   "metadata": {},
   "source": [
    "Word2Vec\n",
    "- Binary prediction of whether an input word and an output word can be found near each other in a corpus"
   ]
  },
  {
   "cell_type": "markdown",
   "id": "3fe0aa7e-81f6-44c9-b32f-bbc8bf78be65",
   "metadata": {},
   "source": [
    "GloVe\n",
    "- Doesn't use NN\n",
    "- Used in NNs and later stages\n",
    "- Works like a recommender system"
   ]
  },
  {
   "cell_type": "markdown",
   "id": "b1584018-3f07-4fa8-8da9-14538b516ccc",
   "metadata": {},
   "source": [
    "## Word Embeddings"
   ]
  },
  {
   "cell_type": "markdown",
   "id": "fb03086a-1d5f-449e-94b7-d32236ea3859",
   "metadata": {},
   "source": [
    "What can you do with Word Embeddings?\n",
    "- Can convert a document into a vector (but not sparse like TFIDF)\n",
    "- Embeddings are dense and low-dimensional (20, 50, 100, 300 << V)\n",
    "- DOC -> tokenize -> vectorize each token -> AVERAGE (1 vector for the whole document)"
   ]
  },
  {
   "cell_type": "markdown",
   "id": "18e07500-8b8c-41f6-9a95-88925baf5174",
   "metadata": {},
   "source": [
    "## Word Analogies"
   ]
  },
  {
   "cell_type": "markdown",
   "id": "ff034dd0-68f2-4a9e-8c7a-877c728c436c",
   "metadata": {},
   "source": [
    "We can do arithmetic on these vectors\n",
    "- King:Man :: ????:Woman.    Answer: Queen\n",
    "- King - Man + Women ==> Queen (<- all are vectors)\n",
    "- France:Paris :: Italy:Rome\n",
    "- Japan:Japanese :: China:Chinese\n",
    "- Miami:Florida :: Dallas:Texas\n",
    "- December:November :: July:June\n",
    "- Man:Woman :: He:She"
   ]
  },
  {
   "cell_type": "markdown",
   "id": "a29bef8b-8766-4503-a671-cb5b41f28c54",
   "metadata": {},
   "source": [
    "## DEMO"
   ]
  },
  {
   "cell_type": "code",
   "execution_count": 1,
   "id": "75d74807-6a21-4ca1-a020-48d890f9bb87",
   "metadata": {},
   "outputs": [],
   "source": [
    "from gensim.models import KeyedVectors"
   ]
  },
  {
   "cell_type": "code",
   "execution_count": 2,
   "id": "048e3c73-6023-4280-bc1a-07652d0eeed7",
   "metadata": {},
   "outputs": [],
   "source": [
    "word_vectors = KeyedVectors.load_word2vec_format('GoogleNews-vectors-negative300.bin', binary=True)"
   ]
  },
  {
   "cell_type": "code",
   "execution_count": 7,
   "id": "b0ec2aeb-3fa6-42f6-ad05-8bb491d475ce",
   "metadata": {},
   "outputs": [],
   "source": [
    "def find_analogies(w1, w2, w3):\n",
    "    r = word_vectors.most_similar(positive=[w1, w3], negative=[w2])\n",
    "    print(f\"{w1}:{w2} :: {r[0][0]}:{w3}\")"
   ]
  },
  {
   "cell_type": "code",
   "execution_count": 8,
   "id": "ee635022-31f4-4a94-9f01-ee5701f3fefe",
   "metadata": {},
   "outputs": [
    {
     "name": "stdout",
     "output_type": "stream",
     "text": [
      "king:man :: queen:woman\n"
     ]
    }
   ],
   "source": [
    "find_analogies(\"king\", \"man\", \"woman\")"
   ]
  },
  {
   "cell_type": "code",
   "execution_count": 9,
   "id": "b9a5f2ae-7ad5-4094-a05b-25e49bedadf6",
   "metadata": {},
   "outputs": [
    {
     "name": "stdout",
     "output_type": "stream",
     "text": [
      "france:paris :: england:london\n"
     ]
    }
   ],
   "source": [
    "find_analogies(\"france\", \"paris\", \"london\")"
   ]
  },
  {
   "cell_type": "code",
   "execution_count": 10,
   "id": "fff66ff4-21dd-4c42-b2b3-c4d7e9bdc9de",
   "metadata": {},
   "outputs": [
    {
     "name": "stdout",
     "output_type": "stream",
     "text": [
      "paris:france :: lohan:italy\n"
     ]
    }
   ],
   "source": [
    "find_analogies(\"paris\", \"france\", \"italy\")"
   ]
  },
  {
   "cell_type": "code",
   "execution_count": 11,
   "id": "d2920119-5a42-4bd8-97e1-e924ec1f667c",
   "metadata": {},
   "outputs": [
    {
     "name": "stdout",
     "output_type": "stream",
     "text": [
      "france:paris :: italy:rome\n"
     ]
    }
   ],
   "source": [
    "find_analogies(\"france\", \"paris\", \"rome\")"
   ]
  },
  {
   "cell_type": "code",
   "execution_count": 13,
   "id": "93477daa-341f-4972-ad54-dd8811883a9f",
   "metadata": {},
   "outputs": [
    {
     "name": "stdout",
     "output_type": "stream",
     "text": [
      "japan:japanese :: italy:italian\n"
     ]
    }
   ],
   "source": [
    "find_analogies(\"japan\", \"japanese\", \"italian\")"
   ]
  },
  {
   "cell_type": "code",
   "execution_count": 14,
   "id": "a52b1743-e489-40ae-93fe-c2131d2ebe88",
   "metadata": {},
   "outputs": [
    {
     "name": "stdout",
     "output_type": "stream",
     "text": [
      "france:french :: england:english\n"
     ]
    }
   ],
   "source": [
    "find_analogies(\"france\", \"french\", \"english\")"
   ]
  },
  {
   "cell_type": "code",
   "execution_count": 15,
   "id": "436e199c-40b0-41af-a11d-91b3bc69e19b",
   "metadata": {},
   "outputs": [
    {
     "name": "stdout",
     "output_type": "stream",
     "text": [
      "japan:japanese :: tibet:chinese\n"
     ]
    }
   ],
   "source": [
    "find_analogies(\"japan\", \"japanese\", \"chinese\")"
   ]
  },
  {
   "cell_type": "code",
   "execution_count": 16,
   "id": "00df9ed2-d2b3-4952-adca-2028ec384cf8",
   "metadata": {},
   "outputs": [],
   "source": [
    "def nearest_neighbors(w):\n",
    "    r = word_vectors.most_similar(positive=[w])\n",
    "    print(f\"neighbors of: {w}\")\n",
    "    for word, score in r:\n",
    "        print(f\"\\t{word}\")"
   ]
  },
  {
   "cell_type": "code",
   "execution_count": 17,
   "id": "044a26cb-a247-433d-bc6d-e85a16422cd3",
   "metadata": {},
   "outputs": [
    {
     "name": "stdout",
     "output_type": "stream",
     "text": [
      "neighbors of: king\n",
      "\tkings\n",
      "\tqueen\n",
      "\tmonarch\n",
      "\tcrown_prince\n",
      "\tprince\n",
      "\tsultan\n",
      "\truler\n",
      "\tprinces\n",
      "\tPrince_Paras\n",
      "\tthrone\n"
     ]
    }
   ],
   "source": [
    "nearest_neighbors(\"king\")"
   ]
  },
  {
   "cell_type": "code",
   "execution_count": 18,
   "id": "3a053d36-f207-4771-b64f-c0d879af6ffe",
   "metadata": {},
   "outputs": [
    {
     "name": "stdout",
     "output_type": "stream",
     "text": [
      "neighbors of: france\n",
      "\tspain\n",
      "\tfrench\n",
      "\tgermany\n",
      "\teurope\n",
      "\titaly\n",
      "\tengland\n",
      "\teuropean\n",
      "\tbelgium\n",
      "\tusa\n",
      "\tserbia\n"
     ]
    }
   ],
   "source": [
    "nearest_neighbors(\"france\")"
   ]
  },
  {
   "cell_type": "code",
   "execution_count": 19,
   "id": "0e7d7259-a8c2-4d98-af6f-a718f0c79852",
   "metadata": {},
   "outputs": [
    {
     "name": "stdout",
     "output_type": "stream",
     "text": [
      "neighbors of: japan\n",
      "\tjapanese\n",
      "\ttokyo\n",
      "\tamerica\n",
      "\teurope\n",
      "\tgermany\n",
      "\tchinese\n",
      "\tindia\n",
      "\thawaii\n",
      "\tusa\n",
      "\tkorea\n"
     ]
    }
   ],
   "source": [
    "nearest_neighbors(\"japan\")"
   ]
  },
  {
   "cell_type": "code",
   "execution_count": 20,
   "id": "c50082dc-83ba-4f22-bc50-535f77b6411d",
   "metadata": {},
   "outputs": [
    {
     "name": "stdout",
     "output_type": "stream",
     "text": [
      "neighbors of: einstein\n",
      "\tnikki\n",
      "\tlmfao\n",
      "\talbert\n",
      "\tarmstrong\n",
      "\tjoan\n",
      "\tbecky\n",
      "\tmcmahon\n",
      "\tconrad\n",
      "\tlori\n",
      "\thaley\n"
     ]
    }
   ],
   "source": [
    "nearest_neighbors(\"einstein\")"
   ]
  },
  {
   "cell_type": "code",
   "execution_count": 21,
   "id": "74ff706b-dd91-42ad-bca2-964f70df8b10",
   "metadata": {},
   "outputs": [
    {
     "name": "stdout",
     "output_type": "stream",
     "text": [
      "neighbors of: woman\n",
      "\tman\n",
      "\tgirl\n",
      "\tteenage_girl\n",
      "\tteenager\n",
      "\tlady\n",
      "\tteenaged_girl\n",
      "\tmother\n",
      "\tpolicewoman\n",
      "\tboy\n",
      "\tWoman\n"
     ]
    }
   ],
   "source": [
    "nearest_neighbors(\"woman\")"
   ]
  },
  {
   "cell_type": "code",
   "execution_count": 22,
   "id": "e56a458d-3ad8-4d68-86c6-c11ccc5334fa",
   "metadata": {},
   "outputs": [
    {
     "name": "stdout",
     "output_type": "stream",
     "text": [
      "neighbors of: february\n",
      "\tjanuary\n",
      "\tapril\n",
      "\tseptember\n",
      "\tdecember\n",
      "\tjuly\n",
      "\toctober\n",
      "\tnovember\n",
      "\tjune\n",
      "\tfeb\n",
      "\tnorway\n"
     ]
    }
   ],
   "source": [
    "nearest_neighbors(\"february\")"
   ]
  },
  {
   "cell_type": "code",
   "execution_count": 23,
   "id": "d541b46e-5c8b-4d1b-b782-a7be95752fd2",
   "metadata": {},
   "outputs": [
    {
     "name": "stdout",
     "output_type": "stream",
     "text": [
      "money:evil :: funds:woman\n"
     ]
    }
   ],
   "source": [
    "find_analogies(\"money\", \"evil\", \"woman\")"
   ]
  },
  {
   "cell_type": "code",
   "execution_count": 24,
   "id": "5bf03d07-3021-4be3-8794-59311257fc50",
   "metadata": {},
   "outputs": [
    {
     "name": "stdout",
     "output_type": "stream",
     "text": [
      "evil:man :: evil_stepmother:woman\n"
     ]
    }
   ],
   "source": [
    "find_analogies(\"evil\", \"man\", \"woman\")"
   ]
  },
  {
   "cell_type": "code",
   "execution_count": null,
   "id": "2b54bd7c-6111-49ba-a26c-c6b3b67899e8",
   "metadata": {},
   "outputs": [],
   "source": []
  }
 ],
 "metadata": {
  "kernelspec": {
   "display_name": "Python 3 (ipykernel)",
   "language": "python",
   "name": "python3"
  },
  "language_info": {
   "codemirror_mode": {
    "name": "ipython",
    "version": 3
   },
   "file_extension": ".py",
   "mimetype": "text/x-python",
   "name": "python",
   "nbconvert_exporter": "python",
   "pygments_lexer": "ipython3",
   "version": "3.10.11"
  }
 },
 "nbformat": 4,
 "nbformat_minor": 5
}
